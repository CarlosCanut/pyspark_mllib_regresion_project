{
 "cells": [
  {
   "cell_type": "markdown",
   "metadata": {},
   "source": [
    "# Entrenamiento de Tenis para elegir pista "
   ]
  },
  {
   "cell_type": "markdown",
   "metadata": {},
   "source": [
    "## Conjunto de datos"
   ]
  },
  {
   "cell_type": "markdown",
   "metadata": {},
   "source": [
    "### Descripción del conjunto de datos y tarea a realizar\n",
    "Para este proyecto vamos a utilizar el conjunto de datos de los partidos realizados en la ATP desde el año 2010 hasta el 2021, con esto realizaremos una serie de modelos de clasificación con los que predecir en base a las caracteristicas de un jugador vencedor y de otro perdedor, además del tiempo de duración del partido y el ranking de la ATP, cual sería el tipo de superficie más idonea para que el resultado planteado ocurriera."
   ]
  },
  {
   "cell_type": "code",
   "execution_count": 13,
   "metadata": {},
   "outputs": [
    {
     "data": {
      "text/html": [
       "<style>.container { width:100% !important; }</style>"
      ],
      "text/plain": [
       "<IPython.core.display.HTML object>"
      ]
     },
     "metadata": {},
     "output_type": "display_data"
    },
    {
     "data": {
      "text/html": [
       "<table border='1'>\n",
       "<tr><th>surface</th><th>tourney_level</th><th>tourney_date</th><th>winner_hand</th><th>winner_ht</th><th>winner_age</th><th>loser_hand</th><th>loser_ht</th><th>loser_age</th><th>score</th><th>minutes</th><th>w_ace</th><th>w_df</th><th>w_svpt</th><th>w_1stIn</th><th>w_1stWon</th><th>w_2ndWon</th><th>w_SvGms</th><th>w_bpSaved</th><th>w_bpFaced</th><th>l_ace</th><th>l_df</th><th>l_svpt</th><th>l_1stIn</th><th>l_1stWon</th><th>l_2ndWon</th><th>l_SvGms</th><th>l_bpSaved</th><th>l_bpFaced</th><th>winner_rank</th><th>winner_rank_points</th><th>loser_rank</th><th>loser_rank_points</th><th>year</th></tr>\n",
       "<tr><td>Hard</td><td>A</td><td>20100103</td><td>R</td><td>188.0</td><td>27.3483915127</td><td>R</td><td>183.0</td><td>30.3463381246</td><td>7-6(5) 6-2</td><td>84.0</td><td>15.0</td><td>0.0</td><td>63.0</td><td>42.0</td><td>36.0</td><td>14.0</td><td>10.0</td><td>3.0</td><td>3.0</td><td>4.0</td><td>2.0</td><td>56.0</td><td>34.0</td><td>29.0</td><td>11.0</td><td>10.0</td><td>3.0</td><td>5.0</td><td>7.0</td><td>4410.0</td><td>77.0</td><td>598.0</td><td>2010</td></tr>\n",
       "<tr><td>Hard</td><td>A</td><td>20100103</td><td>L</td><td>198.0</td><td>22.5434633812</td><td>L</td><td>190.0</td><td>22.3709787817</td><td>7-5 6-1</td><td>70.0</td><td>10.0</td><td>3.0</td><td>57.0</td><td>30.0</td><td>23.0</td><td>19.0</td><td>10.0</td><td>0.0</td><td>0.0</td><td>2.0</td><td>2.0</td><td>66.0</td><td>34.0</td><td>22.0</td><td>14.0</td><td>9.0</td><td>7.0</td><td>10.0</td><td>134.0</td><td>400.0</td><td>78.0</td><td>590.0</td><td>2010</td></tr>\n",
       "<tr><td>Hard</td><td>A</td><td>20100103</td><td>R</td><td>185.0</td><td>23.5482546201</td><td>L</td><td>185.0</td><td>28.4517453799</td><td>6-3 4-6 6-4</td><td>121.0</td><td>5.0</td><td>4.0</td><td>97.0</td><td>51.0</td><td>33.0</td><td>27.0</td><td>15.0</td><td>5.0</td><td>8.0</td><td>4.0</td><td>0.0</td><td>85.0</td><td>58.0</td><td>38.0</td><td>14.0</td><td>14.0</td><td>7.0</td><td>11.0</td><td>52.0</td><td>850.0</td><td>88.0</td><td>568.0</td><td>2010</td></tr>\n",
       "<tr><td>Hard</td><td>A</td><td>20100103</td><td>R</td><td>188.0</td><td>22.1081451061</td><td>L</td><td>183.0</td><td>28.6214921287</td><td>7-5 6-1</td><td>64.0</td><td>12.0</td><td>1.0</td><td>50.0</td><td>35.0</td><td>30.0</td><td>12.0</td><td>10.0</td><td>3.0</td><td>3.0</td><td>2.0</td><td>1.0</td><td>53.0</td><td>29.0</td><td>16.0</td><td>15.0</td><td>9.0</td><td>2.0</td><td>5.0</td><td>285.0</td><td>151.0</td><td>28.0</td><td>1260.0</td><td>2010</td></tr>\n",
       "<tr><td>Hard</td><td>A</td><td>20100103</td><td>R</td><td>196.0</td><td>24.2984257358</td><td>R</td><td>183.0</td><td>21.4291581109</td><td>6-2 6-4</td><td>69.0</td><td>3.0</td><td>1.0</td><td>46.0</td><td>27.0</td><td>24.0</td><td>14.0</td><td>9.0</td><td>1.0</td><td>1.0</td><td>6.0</td><td>1.0</td><td>69.0</td><td>41.0</td><td>26.0</td><td>14.0</td><td>9.0</td><td>6.0</td><td>9.0</td><td>20.0</td><td>1655.0</td><td>251.0</td><td>179.0</td><td>2010</td></tr>\n",
       "</table>\n"
      ],
      "text/plain": [
       "+-------+-------------+------------+-----------+---------+-------------+----------+--------+-------------+-----------+-------+-----+----+------+-------+--------+--------+-------+---------+---------+-----+----+------+-------+--------+--------+-------+---------+---------+-----------+------------------+----------+-----------------+----+\n",
       "|surface|tourney_level|tourney_date|winner_hand|winner_ht|   winner_age|loser_hand|loser_ht|    loser_age|      score|minutes|w_ace|w_df|w_svpt|w_1stIn|w_1stWon|w_2ndWon|w_SvGms|w_bpSaved|w_bpFaced|l_ace|l_df|l_svpt|l_1stIn|l_1stWon|l_2ndWon|l_SvGms|l_bpSaved|l_bpFaced|winner_rank|winner_rank_points|loser_rank|loser_rank_points|year|\n",
       "+-------+-------------+------------+-----------+---------+-------------+----------+--------+-------------+-----------+-------+-----+----+------+-------+--------+--------+-------+---------+---------+-----+----+------+-------+--------+--------+-------+---------+---------+-----------+------------------+----------+-----------------+----+\n",
       "|   Hard|            A|    20100103|          R|    188.0|27.3483915127|         R|   183.0|30.3463381246| 7-6(5) 6-2|   84.0| 15.0| 0.0|  63.0|   42.0|    36.0|    14.0|   10.0|      3.0|      3.0|  4.0| 2.0|  56.0|   34.0|    29.0|    11.0|   10.0|      3.0|      5.0|        7.0|            4410.0|      77.0|            598.0|2010|\n",
       "|   Hard|            A|    20100103|          L|    198.0|22.5434633812|         L|   190.0|22.3709787817|    7-5 6-1|   70.0| 10.0| 3.0|  57.0|   30.0|    23.0|    19.0|   10.0|      0.0|      0.0|  2.0| 2.0|  66.0|   34.0|    22.0|    14.0|    9.0|      7.0|     10.0|      134.0|             400.0|      78.0|            590.0|2010|\n",
       "|   Hard|            A|    20100103|          R|    185.0|23.5482546201|         L|   185.0|28.4517453799|6-3 4-6 6-4|  121.0|  5.0| 4.0|  97.0|   51.0|    33.0|    27.0|   15.0|      5.0|      8.0|  4.0| 0.0|  85.0|   58.0|    38.0|    14.0|   14.0|      7.0|     11.0|       52.0|             850.0|      88.0|            568.0|2010|\n",
       "|   Hard|            A|    20100103|          R|    188.0|22.1081451061|         L|   183.0|28.6214921287|    7-5 6-1|   64.0| 12.0| 1.0|  50.0|   35.0|    30.0|    12.0|   10.0|      3.0|      3.0|  2.0| 1.0|  53.0|   29.0|    16.0|    15.0|    9.0|      2.0|      5.0|      285.0|             151.0|      28.0|           1260.0|2010|\n",
       "|   Hard|            A|    20100103|          R|    196.0|24.2984257358|         R|   183.0|21.4291581109|    6-2 6-4|   69.0|  3.0| 1.0|  46.0|   27.0|    24.0|    14.0|    9.0|      1.0|      1.0|  6.0| 1.0|  69.0|   41.0|    26.0|    14.0|    9.0|      6.0|      9.0|       20.0|            1655.0|     251.0|            179.0|2010|\n",
       "+-------+-------------+------------+-----------+---------+-------------+----------+--------+-------------+-----------+-------+-----+----+------+-------+--------+--------+-------+---------+---------+-----+----+------+-------+--------+--------+-------+---------+---------+-----------+------------------+----------+-----------------+----+"
      ]
     },
     "execution_count": 13,
     "metadata": {},
     "output_type": "execute_result"
    }
   ],
   "source": [
    "from pyspark.sql.functions import *\n",
    "import matplotlib.pyplot as plt\n",
    "import seaborn as sns\n",
    "import pandas as pd\n",
    "from IPython.core.display import display, HTML\n",
    "\n",
    "display(HTML(\"<style>.container { width:100% !important; }</style>\"))\n",
    "spark.conf.set(\"spark.sql.repl.eagerEval.enabled\", True)\n",
    "\n",
    "### Cargamos el conjunto de datos con todos los partidos de la ATP desde 2010 hasta 2021\n",
    "all_atp_games = spark.read.csv(\"file:///home/alumno/Desktop/pyspark_mllib_regresion_project/datasets/all_atp_games.csv\", header=True, inferSchema=True, sep=\",\")\n",
    "\n",
    "### Ahora realizamos una limpieza de las columnas que no vamos a utilizar\n",
    "# primero eliminamos las columnas que nos dan información sobre el torneo o datos externos al juego en si\n",
    "columns_to_drop = ['tourney_name', 'tourney_id', 'draw_size', 'match_num', 'winner_id', 'loser_id', 'winner_name', 'loser_name',\n",
    "                  'winner_seed', 'winner_entry', 'winner_ioc', 'loser_seed', 'loser_entry', 'loser_ioc',\n",
    "                  'best_of', 'round']\n",
    "all_atp_games = all_atp_games.drop(*columns_to_drop)\n",
    "\n",
    "# vamos a eliminar todos los registros los cuales no cuentes con la altura del vencedor o perdedor\n",
    "all_atp_games = all_atp_games.dropna('any', subset=['winner_ht', 'loser_ht'])\n",
    "# tambien los datos sin el terreno definido los eliminaremos\n",
    "all_atp_games = all_atp_games.dropna('all', subset=['surface'])\n",
    "\n",
    "# creamos una nueva columna con el año que ocurrió el partido\n",
    "all_atp_games = all_atp_games.withColumn(\"year\", expr('LEFT(tourney_date,4)'))\n",
    "\n",
    "\n",
    "all_atp_games.limit(5)"
   ]
  },
  {
   "cell_type": "markdown",
   "metadata": {},
   "source": [
    "### Operaciones con API de datos estructurados"
   ]
  },
  {
   "cell_type": "code",
   "execution_count": 14,
   "metadata": {},
   "outputs": [
    {
     "name": "stdout",
     "output_type": "stream",
     "text": [
      "+-------+------------------+------------------+---------------+--------------+---------------+--------------+\n",
      "|surface|  mean(winner_age)|   mean(loser_age)|max(winner_age)|max(loser_age)|min(winner_age)|min(loser_age)|\n",
      "+-------+------------------+------------------+---------------+--------------+---------------+--------------+\n",
      "| Carpet| 24.25272468803077|27.978307797600003|  34.9678302533| 33.6755646817|  18.8911704312|  19.832991102|\n",
      "|   Clay| 27.81269322819466| 28.08200889591144|  40.2409308693| 43.8302532512|  17.2320328542| 16.2354551677|\n",
      "|   Hard|  27.9150914512067| 28.09501089963693|  41.8507871321| 44.0602327173|  17.2429842574| 17.2046543463|\n",
      "|  Grass|28.409907806723666| 28.25490127169548|  39.3401779603| 39.3785078713|  17.6262833676| 17.6262833676|\n",
      "+-------+------------------+------------------+---------------+--------------+---------------+--------------+\n",
      "\n",
      "+-------+------------------+-----------------+----------------+---------------+----------------+---------------+\n",
      "|surface| mean(winner_rank)| mean(loser_rank)|max(winner_rank)|max(loser_rank)|min(winner_rank)|min(loser_rank)|\n",
      "+-------+------------------+-----------------+----------------+---------------+----------------+---------------+\n",
      "| Carpet|237.07692307692307|370.5833333333333|           623.0|          859.0|            25.0|           90.0|\n",
      "|   Clay| 52.23704842428901|77.98320493066255|          1112.0|         1821.0|             1.0|            1.0|\n",
      "|   Hard|47.768067906224736| 73.2530159501255|          1890.0|         1890.0|             1.0|            1.0|\n",
      "|  Grass| 57.32218597063621|83.97755102040816|           861.0|         1109.0|             1.0|            1.0|\n",
      "+-------+------------------+-----------------+----------------+---------------+----------------+---------------+\n",
      "\n"
     ]
    }
   ],
   "source": [
    "# Para las variables de respuesta (categorica), calcular estadísticas agregadas de las variables predictoras\n",
    "# en base a la de respuesta\n",
    "\n",
    "# Vamos a observar la media, minimo y máximo de edad y altura del ganador y perdedor en cada tipo de superficie\n",
    "height_by_surface = all_atp_games.groupBy(col('surface')).agg(expr('mean(winner_ht)'),expr('mean(loser_ht)'),\n",
    "                                         expr('max(winner_ht)'),expr('max(loser_ht)'),\n",
    "                                         expr('min(winner_ht)'),expr('min(loser_ht)'))\n",
    "\n",
    "age_by_surface = all_atp_games.groupBy(col('surface')).agg(expr('mean(winner_age)'),expr('mean(loser_age)'),\n",
    "                                         expr('max(winner_age)'),expr('max(loser_age)'),\n",
    "                                         expr('min(winner_age)'),expr('min(loser_age)'))\n",
    "\n",
    "rank_by_surface = all_atp_games.groupBy(col('surface')).agg(expr('mean(winner_rank)'),expr('mean(loser_rank)'),\n",
    "                                         expr('max(winner_rank)'),expr('max(loser_rank)'),\n",
    "                                         expr('min(winner_rank)'),expr('min(loser_rank)'))\n",
    "\n",
    "\n",
    "height_by_surface\n",
    "age_by_surface.show()\n",
    "rank_by_surface.show()"
   ]
  },
  {
   "cell_type": "markdown",
   "metadata": {},
   "source": [
    "Se puede observar independientemente del tipo de pista, los ganadores son de media más altos, más jovenes y con una mejor posición en el ranking.\n",
    "A excepción de los jugadores en Grass (Hierba) donde la media de los jugadores ganadores son mayores, esto es interesante aunque habría que analizar con más profundidad para deducir algo."
   ]
  },
  {
   "cell_type": "code",
   "execution_count": 15,
   "metadata": {},
   "outputs": [
    {
     "name": "stdout",
     "output_type": "stream",
     "text": [
      "Datos totales: 19459\n",
      "+----+-----+\n",
      "|year|count|\n",
      "+----+-----+\n",
      "|2016| 1983|\n",
      "|2012| 2621|\n",
      "|2020|  268|\n",
      "|2019|  795|\n",
      "|2017| 1599|\n",
      "|2014| 2169|\n",
      "|2013| 2408|\n",
      "|2018| 1198|\n",
      "|2011| 2592|\n",
      "|2021|  120|\n",
      "|2015| 1093|\n",
      "|2010| 2613|\n",
      "+----+-----+\n",
      "\n",
      "Nuevos datos reducidos: 2392\n",
      "+----+-----+\n",
      "|year|count|\n",
      "+----+-----+\n",
      "|2016|  226|\n",
      "|2012|  334|\n",
      "|2020|   34|\n",
      "|2019|   88|\n",
      "|2017|  181|\n",
      "|2014|  248|\n",
      "|2013|  311|\n",
      "|2018|  162|\n",
      "|2011|  333|\n",
      "|2021|   17|\n",
      "|2015|  115|\n",
      "|2010|  343|\n",
      "+----+-----+\n",
      "\n"
     ]
    }
   ],
   "source": [
    "# vamos a limpiar todos los valores null ya que no queremos ni valores nulos y 0 introducidos en nulos para el entrenamiento\n",
    "all_atp_games = all_atp_games.dropna('any')\n",
    "# Contamos con demasiados registros, así que vamos a reducir esto, primero vamos a ver cuantos registros tenemos de cada año\n",
    "print(\"Datos totales:\", all_atp_games.count())\n",
    "all_atp_games.groupBy(\"year\").count().show()\n",
    "# contamos con 12 años diferentes, vamos a tratar de hacer un muestreo estratificado para obtener\n",
    "# un conjunto reducido.\n",
    "porcentaje_por_clase = 0.125\n",
    "seed_stratified = 12\n",
    "fracciones = all_atp_games.select(\"year\").distinct().withColumn(\"fraccion\", lit(porcentaje_por_clase)).rdd.collectAsMap()\n",
    "all_atp_games_reducido = all_atp_games.stat.sampleBy(\"year\", fracciones, seed_stratified)\n",
    "\n",
    "# vamos a comprobar la distribución y total de muestras actuales\n",
    "print(\"Nuevos datos reducidos:\", all_atp_games_reducido.count())\n",
    "all_atp_games_reducido.groupBy(\"year\").count().show()"
   ]
  },
  {
   "cell_type": "code",
   "execution_count": 16,
   "metadata": {},
   "outputs": [
    {
     "name": "stdout",
     "output_type": "stream",
     "text": [
      "+-------+---------+--------+-------+-----------+----------+\n",
      "|surface|winner_ht|loser_ht|minutes|winner_rank|loser_rank|\n",
      "+-------+---------+--------+-------+-----------+----------+\n",
      "|   Hard|    196.0|   183.0|   69.0|       20.0|     251.0|\n",
      "|   Hard|    180.0|   173.0|  113.0|      105.0|      63.0|\n",
      "|   Hard|    188.0|   198.0|   81.0|        7.0|     134.0|\n",
      "|   Hard|    180.0|   185.0|  136.0|      105.0|      81.0|\n",
      "|   Hard|    185.0|   193.0|   61.0|       12.0|      13.0|\n",
      "|   Hard|    183.0|   190.0|   51.0|       21.0|     391.0|\n",
      "|   Hard|    198.0|   180.0|   73.0|       14.0|     104.0|\n",
      "|   Hard|    183.0|   173.0|   91.0|       21.0|      83.0|\n",
      "|   Hard|    188.0|   180.0|   67.0|      107.0|     103.0|\n",
      "|   Hard|    198.0|   190.0|  166.0|       14.0|      91.0|\n",
      "|   Hard|    175.0|   185.0|  115.0|       43.0|      82.0|\n",
      "|   Hard|    198.0|   188.0|   99.0|       14.0|     107.0|\n",
      "|   Hard|    198.0|   180.0|   84.0|       14.0|      38.0|\n",
      "|   Hard|    198.0|   183.0|  161.0|       14.0|      21.0|\n",
      "|   Hard|    208.0|   178.0|   94.0|       37.0|      54.0|\n",
      "|   Hard|    193.0|   183.0|  105.0|       60.0|      19.0|\n",
      "|   Hard|    185.0|   185.0|   64.0|        1.0|      53.0|\n",
      "|   Hard|    183.0|   190.0|   96.0|      332.0|     263.0|\n",
      "|   Hard|    183.0|   178.0|  105.0|       28.0|      54.0|\n",
      "|   Hard|    173.0|   188.0|  111.0|       67.0|      32.0|\n",
      "+-------+---------+--------+-------+-----------+----------+\n",
      "only showing top 20 rows\n",
      "\n"
     ]
    }
   ],
   "source": [
    "# Vamos a proyectar con las variables de winner_rank, winner_ht, loser_rank, loser_ht y minutes. \n",
    "# Ademas de surface (variable a predecir).\n",
    "projected_games = all_atp_games_reducido.select('surface','winner_ht','loser_ht','minutes','winner_rank','loser_rank')\n",
    "projected_games.show()"
   ]
  },
  {
   "cell_type": "markdown",
   "metadata": {},
   "source": [
    "### Analisis variable a variable"
   ]
  },
  {
   "cell_type": "code",
   "execution_count": 17,
   "metadata": {},
   "outputs": [],
   "source": [
    "# altura\n",
    "height_resume_winner = all_atp_games.selectExpr('mean(winner_ht) as mean_winner', 'percentile(winner_ht, 0.5) as median_winner',\n",
    "                                         'percentile(winner_ht, 0.25) as Q1_winner', 'percentile(winner_ht, 0.75) as Q3_winner',\n",
    "                                        'kurtosis(winner_ht) as kurtosis_winner', 'skewness(winner_ht) as skewness_winner')\n",
    "\n",
    "height_resume_loser = all_atp_games.selectExpr('mean(loser_ht) as mean_loser', 'percentile(loser_ht, 0.5) as median_loser',\n",
    "                                         'percentile(loser_ht, 0.25) as Q1_loser', 'percentile(loser_ht, 0.75) as Q3_loser',\n",
    "                                        'kurtosis(loser_ht) as kurtosis_loser', 'skewness(loser_ht) as skewness_loser')\n",
    "# edad\n",
    "age_resume_winner = all_atp_games.selectExpr('mean(winner_age) as mean_winner', 'percentile(winner_age, 0.5) as median_winner',\n",
    "                                         'percentile(winner_age, 0.25) as Q1_winner', 'percentile(winner_age, 0.75) as Q3_winner',\n",
    "                                        'kurtosis(winner_age) as kurtosis_winner', 'skewness(winner_age) as skewness_winner')\n",
    "\n",
    "age_resume_loser = all_atp_games.selectExpr('mean(loser_age) as mean_loser', 'percentile(loser_age, 0.5) as median_loser',\n",
    "                                         'percentile(loser_age, 0.25) as Q1_loser', 'percentile(loser_age, 0.75) as Q3_loser',\n",
    "                                        'kurtosis(loser_age) as kurtosis_loser', 'skewness(loser_age) as skewness_loser')\n",
    "\n",
    "# rank\n",
    "rank_resume_winner = all_atp_games.selectExpr('mean(winner_rank) as mean_winner', 'percentile(winner_rank, 0.5) as median_winner',\n",
    "                                         'percentile(winner_rank, 0.25) as Q1_winner', 'percentile(winner_rank, 0.75) as Q3_winner',\n",
    "                                        'kurtosis(winner_rank) as kurtosis_winner', 'skewness(winner_rank) as skewness_winner')\n",
    "\n",
    "rank_resume_loser = all_atp_games.selectExpr('mean(loser_rank) as mean_loser', 'percentile(loser_rank, 0.5) as median_loser',\n",
    "                                         'percentile(loser_rank, 0.25) as Q1_loser', 'percentile(loser_rank, 0.75) as Q3_loser',\n",
    "                                        'kurtosis(loser_rank) as kurtosis_loser', 'skewness(loser_rank) as skewness_loser')\n",
    "\n",
    "# minute\n",
    "minute_resume = all_atp_games.selectExpr('mean(minutes) as mean', 'percentile(minutes, 0.5) as median',\n",
    "                                         'percentile(minutes, 0.25) as Q1', 'percentile(minutes, 0.75) as Q3',\n",
    "                                        'kurtosis(minutes) as kurtosis', 'skewness(minutes) as skewness')\n",
    "minute_resume_by_surface = all_atp_games.groupBy('surface').agg(expr('mean(minutes) as mean'), expr('percentile(minutes, 0.5) as median'),\n",
    "                                                               expr('percentile(minutes, 0.25) as Q1'),\n",
    "                                                               expr('percentile(minutes, 0.75) as Q3'),\n",
    "                                                               expr('kurtosis(minutes) as kurtosis'),\n",
    "                                                               expr('skewness(minutes) as skewness'),\n",
    "                                                               expr('count(minutes) as count'))"
   ]
  },
  {
   "cell_type": "code",
   "execution_count": 18,
   "metadata": {},
   "outputs": [
    {
     "name": "stdout",
     "output_type": "stream",
     "text": [
      "resumen height\n",
      "+------------------+-------------+---------+---------+------------------+-------------------+\n",
      "|       mean_winner|median_winner|Q1_winner|Q3_winner|   kurtosis_winner|    skewness_winner|\n",
      "+------------------+-------------+---------+---------+------------------+-------------------+\n",
      "|186.75101495451975|        185.0|    183.0|    190.0|0.9442518611254185|0.12863910446872717|\n",
      "+------------------+-------------+---------+---------+------------------+-------------------+\n",
      "\n",
      "+------------------+------------+--------+--------+------------------+-------------------+\n",
      "|        mean_loser|median_loser|Q1_loser|Q3_loser|    kurtosis_loser|     skewness_loser|\n",
      "+------------------+------------+--------+--------+------------------+-------------------+\n",
      "|186.06732103396885|       185.0|   183.0|   190.0|0.9770046347996795|0.20134718123231332|\n",
      "+------------------+------------+--------+--------+------------------+-------------------+\n",
      "\n"
     ]
    },
    {
     "data": {
      "text/plain": [
       "array([[<AxesSubplot:title={'center':'loser_ht'}>]], dtype=object)"
      ]
     },
     "execution_count": 18,
     "metadata": {},
     "output_type": "execute_result"
    },
    {
     "data": {
      "image/png": "[encoded data removed]",
      "text/plain": [
       "<Figure size 432x288 with 1 Axes>"
      ]
     },
     "metadata": {
      "needs_background": "light"
     },
     "output_type": "display_data"
    },
    {
     "data": {
      "image/png": "[encoded data removed]",
      "text/plain": [
       "<Figure size 432x288 with 1 Axes>"
      ]
     },
     "metadata": {
      "needs_background": "light"
     },
     "output_type": "display_data"
    }
   ],
   "source": [
    "# vamos a transformar el conjunto de datos a un df de pandas para observar el histograma de cada variable\n",
    "all_atp_games_df = all_atp_games.toPandas()\n",
    "\n",
    "print(\"resumen height\")\n",
    "height_resume_winner.show()\n",
    "all_atp_games_df.hist(column = \"winner_ht\")\n",
    "height_resume_loser.show()\n",
    "all_atp_games_df.hist(column = \"loser_ht\")"
   ]
  },
  {
   "cell_type": "markdown",
   "metadata": {},
   "source": [
    "La altura de los jugadores parece seguir una distribución aproximadamente normal observando su histograma, kurtosis y asimetría."
   ]
  },
  {
   "cell_type": "code",
   "execution_count": 19,
   "metadata": {},
   "outputs": [
    {
     "name": "stdout",
     "output_type": "stream",
     "text": [
      "resumen age\n",
      "+----------------+-------------+-------------+------------------+--------------------+-------------------+\n",
      "|     mean_winner|median_winner|    Q1_winner|         Q3_winner|     kurtosis_winner|    skewness_winner|\n",
      "+----------------+-------------+-------------+------------------+--------------------+-------------------+\n",
      "|27.9448683043329|27.9507186858|25.3360711841|30.410677618100003|-0.24807749405670076|0.11390401598089166|\n",
      "+----------------+-------------+-------------+------------------+--------------------+-------------------+\n",
      "\n",
      "+------------------+-------------+-------------+-------------+--------------------+-------------------+\n",
      "|        mean_loser| median_loser|     Q1_loser|     Q3_loser|      kurtosis_loser|     skewness_loser|\n",
      "+------------------+-------------+-------------+-------------+--------------------+-------------------+\n",
      "|28.098915218606994|28.1314168378|25.4592744695|30.6584531143|-0.25142836751162667|0.05736302014858706|\n",
      "+------------------+-------------+-------------+-------------+--------------------+-------------------+\n",
      "\n"
     ]
    },
    {
     "data": {
      "text/plain": [
       "array([[<AxesSubplot:title={'center':'loser_age'}>]], dtype=object)"
      ]
     },
     "execution_count": 19,
     "metadata": {},
     "output_type": "execute_result"
    },
    {
     "data": {
      "image/png": "[encoded data removed]",
      "text/plain": [
       "<Figure size 432x288 with 1 Axes>"
      ]
     },
     "metadata": {
      "needs_background": "light"
     },
     "output_type": "display_data"
    },
    {
     "data": {
      "image/png": "[encoded data removed]",
      "text/plain": [
       "<Figure size 432x288 with 1 Axes>"
      ]
     },
     "metadata": {
      "needs_background": "light"
     },
     "output_type": "display_data"
    }
   ],
   "source": [
    "print(\"resumen age\")\n",
    "age_resume_winner.show()\n",
    "all_atp_games_df.hist(column = \"winner_age\")\n",
    "age_resume_loser.show()\n",
    "all_atp_games_df.hist(column = \"loser_age\")"
   ]
  },
  {
   "cell_type": "markdown",
   "metadata": {},
   "source": [
    "La edad de los jugadores parece seguir una distribución aproximadamente normal observando su histograma, kurtosis y asimetría."
   ]
  },
  {
   "cell_type": "code",
   "execution_count": 20,
   "metadata": {},
   "outputs": [
    {
     "name": "stdout",
     "output_type": "stream",
     "text": [
      "resumen rank\n",
      "+------------------+-------------+---------+---------+-----------------+-----------------+\n",
      "|       mean_winner|median_winner|Q1_winner|Q3_winner|  kurtosis_winner|  skewness_winner|\n",
      "+------------------+-------------+---------+---------+-----------------+-----------------+\n",
      "|49.529626393956526|         35.0|     13.0|     67.0|82.90235647372322|5.761769350311845|\n",
      "+------------------+-------------+---------+---------+-----------------+-----------------+\n",
      "\n",
      "+-----------------+------------+--------+--------+-----------------+-----------------+\n",
      "|       mean_loser|median_loser|Q1_loser|Q3_loser|   kurtosis_loser|   skewness_loser|\n",
      "+-----------------+------------+--------+--------+-----------------+-----------------+\n",
      "|73.75296777840587|        57.0|    31.0|    90.0|73.92763102018864|6.260305163587122|\n",
      "+-----------------+------------+--------+--------+-----------------+-----------------+\n",
      "\n"
     ]
    },
    {
     "data": {
      "text/plain": [
       "array([[<AxesSubplot:title={'center':'loser_rank'}>]], dtype=object)"
      ]
     },
     "execution_count": 20,
     "metadata": {},
     "output_type": "execute_result"
    },
    {
     "data": {
      "image/png": "[encoded data removed]",
      "text/plain": [
       "<Figure size 432x288 with 1 Axes>"
      ]
     },
     "metadata": {
      "needs_background": "light"
     },
     "output_type": "display_data"
    },
    {
     "data": {
      "image/png": "[encoded data removed]",
      "text/plain": [
       "<Figure size 432x288 with 1 Axes>"
      ]
     },
     "metadata": {
      "needs_background": "light"
     },
     "output_type": "display_data"
    }
   ],
   "source": [
    "print(\"resumen rank\")\n",
    "rank_resume_winner.show()\n",
    "all_atp_games_df.hist(column = \"winner_rank\")\n",
    "rank_resume_loser.show()\n",
    "all_atp_games_df.hist(column = \"loser_rank\")"
   ]
  },
  {
   "cell_type": "markdown",
   "metadata": {},
   "source": [
    "El ranking de los jugadores no es normal, pero esto es normal ya que estamos trabajando con todas las partidas, y dado que el rango que necesitan los jugadores para participar en estos tipos de torneos es alto, obviamente en la mayor parte de los partidos están todos agrupados en los primeros 200 del ATP."
   ]
  },
  {
   "cell_type": "code",
   "execution_count": 21,
   "metadata": {},
   "outputs": [
    {
     "name": "stdout",
     "output_type": "stream",
     "text": [
      "resumen game lenght\n",
      "+------------------+------+----+-----+------------------+-----------------+\n",
      "|              mean|median|  Q1|   Q3|          kurtosis|         skewness|\n",
      "+------------------+------+----+-----+------------------+-----------------+\n",
      "|108.41004162598284| 101.0|78.0|131.0|47.511348984848155|2.804546105488834|\n",
      "+------------------+------+----+-----+------------------+-----------------+\n",
      "\n"
     ]
    },
    {
     "data": {
      "text/plain": [
       "array([[<AxesSubplot:title={'center':'minutes'}>]], dtype=object)"
      ]
     },
     "execution_count": 21,
     "metadata": {},
     "output_type": "execute_result"
    },
    {
     "data": {
      "image/png": "[encoded data removed]",
      "text/plain": [
       "<Figure size 432x288 with 1 Axes>"
      ]
     },
     "metadata": {
      "needs_background": "light"
     },
     "output_type": "display_data"
    }
   ],
   "source": [
    "print(\"resumen game lenght\")\n",
    "minute_resume.show()\n",
    "all_atp_games_df.hist(column = \"minutes\")"
   ]
  },
  {
   "cell_type": "markdown",
   "metadata": {},
   "source": [
    "Observando la duración de las partidas, podemos observar que suelen durar una hora y 40 minutos de media, "
   ]
  },
  {
   "cell_type": "code",
   "execution_count": 22,
   "metadata": {},
   "outputs": [
    {
     "name": "stdout",
     "output_type": "stream",
     "text": [
      "resumen game lenght by surface\n",
      "+-------+------------------+------+-----+-----+------------------+------------------+-----+\n",
      "|surface|              mean|median|   Q1|   Q3|          kurtosis|          skewness|count|\n",
      "+-------+------------------+------+-----+-----+------------------+------------------+-----+\n",
      "| Carpet|             137.0| 137.0|137.0|137.0|               NaN|               NaN|    1|\n",
      "|   Clay|108.87576006573542| 101.0| 79.0|132.0| 88.38749169746019| 4.061482538610376| 6085|\n",
      "|   Hard|107.25287663901526|  99.0| 78.0|129.0|34.538527193750575| 2.370569473532891|11211|\n",
      "|  Grass|113.08649398704902| 105.0| 79.0|138.0| 10.14761220251931|1.6882444171412594| 2162|\n",
      "+-------+------------------+------+-----+-----+------------------+------------------+-----+\n",
      "\n"
     ]
    }
   ],
   "source": [
    "print(\"resumen game lenght by surface\")\n",
    "minute_resume_by_surface.show()"
   ]
  },
  {
   "cell_type": "markdown",
   "metadata": {},
   "source": [
    "Al observar la duración de las partidas por el tipo de pista, podemos ver que la pista de alfombra tiene una duración más alta de media, esto podemos ver que se debe a que únicamente tenemos 1 registro de este tipo de pista.\n",
    "Por otro lado se observa que en cesped la media es ligeramente superior, lo cual puede deberse a que cesped es el tipo de cancha más rápido, lo que pueda ayudar a que los jugadores puedan aguantar más en cada punto y esto haga que dure más la partida."
   ]
  },
  {
   "cell_type": "code",
   "execution_count": 23,
   "metadata": {},
   "outputs": [
    {
     "name": "stdout",
     "output_type": "stream",
     "text": [
      "+-----------+-----+------------------+\n",
      "|winner_hand|count|        percentage|\n",
      "+-----------+-----+------------------+\n",
      "|          L| 2592|0.1332031450742587|\n",
      "|          R|16867|0.8667968549257413|\n",
      "+-----------+-----+------------------+\n",
      "\n",
      "+----------+-----+-------------------+\n",
      "|loser_hand|count|         percentage|\n",
      "+----------+-----+-------------------+\n",
      "|         L| 2694|0.13844493550542167|\n",
      "|         R|16765| 0.8615550644945783|\n",
      "+----------+-----+-------------------+\n",
      "\n",
      "+-------------------------+----+----+\n",
      "|tourney_level_winner_hand|   L|   R|\n",
      "+-------------------------+----+----+\n",
      "|                        A|1473|9444|\n",
      "|                        D|  17| 122|\n",
      "|                        F|   9| 111|\n",
      "|                        G| 488|3355|\n",
      "|                        M| 605|3835|\n",
      "+-------------------------+----+----+\n",
      "\n",
      "+-----------------------+---+---+\n",
      "|winner_rank_winner_hand|  L|  R|\n",
      "+-----------------------+---+---+\n",
      "|                    1.0|185|371|\n",
      "|                   10.0|  9|289|\n",
      "|                   11.0| 11|292|\n",
      "|                   12.0| 22|259|\n",
      "|                   13.0|  4|260|\n",
      "|                   14.0|  6|256|\n",
      "|                   15.0| 17|273|\n",
      "|                   16.0| 15|235|\n",
      "|                   17.0|  3|274|\n",
      "|                   18.0|  3|228|\n",
      "|                   19.0| 17|241|\n",
      "|                    2.0|130|395|\n",
      "|                   20.0| 15|217|\n",
      "|                   21.0| 18|252|\n",
      "|                   22.0| 12|226|\n",
      "|                   23.0| 19|209|\n",
      "|                   24.0| 33|172|\n",
      "|                   25.0| 38|187|\n",
      "|                   26.0| 34|166|\n",
      "|                   27.0| 34|155|\n",
      "+-----------------------+---+---+\n",
      "only showing top 20 rows\n",
      "\n"
     ]
    }
   ],
   "source": [
    "hand_resume_winner_surface = all_atp_games.groupBy('winner_hand').agg(count('surface').alias('count'), (count('surface')/all_atp_games.count()).alias('percentage'))\n",
    "hand_resume_loser_surface = all_atp_games.groupBy('loser_hand').agg(count('surface').alias('count'), (count('surface')/all_atp_games.count()).alias('percentage'))\n",
    "\n",
    "hand_resume_winner_surface.show()\n",
    "hand_resume_loser_surface.show()\n",
    "\n",
    "\n",
    "all_atp_games.crosstab('tourney_level','winner_hand').orderBy('tourney_level_winner_hand', ascending=True).show(n=50)\n",
    "\n",
    "all_atp_games.filter(\"winner_rank < 50\").crosstab('winner_rank','winner_hand').orderBy('winner_rank_winner_hand', ascending=True).show(n=20)\n"
   ]
  },
  {
   "cell_type": "markdown",
   "metadata": {},
   "source": [
    "Podemos observar que la dominancia de la mano derecha es constante en todos los niveles de juego y todos los jugadores que han tenido cierto rango en el ranking ATP, lo que es entendible ya que generalmente la gente suele ser diestra."
   ]
  },
  {
   "cell_type": "markdown",
   "metadata": {},
   "source": [
    "## Entrenamiento y evaluación de modelo"
   ]
  },
  {
   "cell_type": "markdown",
   "metadata": {},
   "source": [
    "En la tarea de clasificación, teniendo en cuenta las siguientes variables de los jugadores (a la hora de introducir los datos habrá que predefinir dos jugadores, uno como ganador y otro como perdedor):\n",
    "- hand: mano dominante\n",
    "- tourney_level: Nivel de la competición donde se juega el partido\n",
    "- ht: altura\n",
    "- age: edad\n",
    "- rank: posición en el ranking ATP\n",
    "- minutes: duración en minutos de la partida\n",
    "\n",
    "Trataremos de predecir que tipo de superficie sería la más idonea para que el jugador introducido como vencedor obtenga la victoria en la duración de partida introducida:\n",
    "- surface: tipo de pista\n"
   ]
  },
  {
   "cell_type": "code",
   "execution_count": 24,
   "metadata": {},
   "outputs": [
    {
     "name": "stdout",
     "output_type": "stream",
     "text": [
      "+------+------+--------+--------+-------------+-------------+------+------+-------+-------------+-------+\n",
      "|w_hand|l_hand|w_height|l_height|        w_age|        l_age|w_rank|l_rank|minutes|tourney_level|surface|\n",
      "+------+------+--------+--------+-------------+-------------+------+------+-------+-------------+-------+\n",
      "|     R|     R|   196.0|   183.0|24.2984257358|21.4291581109|  20.0| 251.0|   69.0|            A|   Hard|\n",
      "|     L|     R|   180.0|   173.0|24.1204654346|32.0492813142| 105.0|  63.0|  113.0|            A|   Hard|\n",
      "|     R|     L|   188.0|   198.0|27.3483915127|22.5434633812|   7.0| 134.0|   81.0|            A|   Hard|\n",
      "|     L|     L|   180.0|   185.0|24.1204654346|26.1409993155| 105.0|  81.0|  136.0|            A|   Hard|\n",
      "|     R|     R|   185.0|   193.0|31.1047227926|23.3429158111|  12.0|  13.0|   61.0|            A|   Hard|\n",
      "+------+------+--------+--------+-------------+-------------+------+------+-------+-------------+-------+\n",
      "only showing top 5 rows\n",
      "\n",
      "+-------+------+------+------------------+------------------+-----------------+------------------+-----------------+-----------------+------------------+-------------+-------+\n",
      "|summary|w_hand|l_hand|          w_height|          l_height|            w_age|             l_age|           w_rank|           l_rank|           minutes|tourney_level|surface|\n",
      "+-------+------+------+------------------+------------------+-----------------+------------------+-----------------+-----------------+------------------+-------------+-------+\n",
      "|  count|  2392|  2392|              2392|              2392|             2392|              2392|             2392|             2392|              2392|         2392|   2392|\n",
      "|   mean|  null|  null|186.75627090301003|186.02759197324414|27.82013968533068|28.135315299229884|49.09531772575251|72.02132107023411|107.86580267558529|         null|   null|\n",
      "| stddev|  null|  null| 7.340978466231814| 7.098994660527587|3.583103124835897|3.6729781088988136| 59.7837111896956|70.89356750866155|  45.0833881529782|         null|   null|\n",
      "|    min|     L|     L|             163.0|             163.0|    17.2320328542|     17.9329226557|              1.0|              1.0|               8.0|            A|   Clay|\n",
      "|    25%|  null|  null|             183.0|             183.0|    25.1663244353|     25.3826146475|             14.0|             30.0|              79.0|         null|   null|\n",
      "|    50%|  null|  null|             188.0|             185.0|    27.8576317591|      28.205338809|             34.0|             58.0|             100.0|         null|   null|\n",
      "|    75%|  null|  null|             190.0|             190.0|    30.2422997947|     30.6995208761|             66.0|             90.0|             131.0|         null|   null|\n",
      "|    max|     R|     R|             208.0|             208.0|    39.5811088296|     39.9342915811|           1042.0|            836.0|            1146.0|            M|   Hard|\n",
      "+-------+------+------+------------------+------------------+-----------------+------------------+-----------------+-----------------+------------------+-------------+-------+\n",
      "\n"
     ]
    }
   ],
   "source": [
    "import pyspark.ml.feature as ft \n",
    "from pyspark.ml import Pipeline\n",
    "\n",
    "# preparamos el dataset con las variables que vamos a utilizar\n",
    "games_df = all_atp_games_reducido.select('winner_hand','loser_hand','winner_ht','loser_ht','winner_age','loser_age','winner_rank','loser_rank','minutes','tourney_level','surface')\n",
    "games_df = games_df.withColumnRenamed(\"winner_hand\",\"w_hand\")\n",
    "games_df = games_df.withColumnRenamed(\"loser_hand\",\"l_hand\")\n",
    "games_df = games_df.withColumnRenamed(\"winner_ht\",\"w_height\")\n",
    "games_df = games_df.withColumnRenamed(\"loser_ht\",\"l_height\")\n",
    "games_df = games_df.withColumnRenamed(\"winner_age\",\"w_age\")\n",
    "games_df = games_df.withColumnRenamed(\"loser_age\",\"l_age\")\n",
    "games_df = games_df.withColumnRenamed(\"winner_rank\",\"w_rank\")\n",
    "games_df = games_df.withColumnRenamed(\"loser_rank\",\"l_rank\")\n",
    "games_df.show(5)\n",
    "games_df.summary().show()"
   ]
  },
  {
   "cell_type": "code",
   "execution_count": 25,
   "metadata": {},
   "outputs": [
    {
     "name": "stdout",
     "output_type": "stream",
     "text": [
      "+-------+-----+\n",
      "|surface|count|\n",
      "+-------+-----+\n",
      "|   Clay|  729|\n",
      "|   Hard| 1414|\n",
      "|  Grass|  249|\n",
      "+-------+-----+\n",
      "\n"
     ]
    }
   ],
   "source": [
    "# numero total de clases a predecir\n",
    "clases = games_df.groupBy('surface').agg(expr('count(minutes) as count'))\n",
    "clases.show()"
   ]
  },
  {
   "cell_type": "code",
   "execution_count": 26,
   "metadata": {},
   "outputs": [
    {
     "name": "stdout",
     "output_type": "stream",
     "text": [
      "conjunto de entrenamiento:  1676 , conjunto de test:  716\n"
     ]
    }
   ],
   "source": [
    "# ahora cargamos un conjunto de entrenamiento y otro de test\n",
    "train_df, test_df = games_df.randomSplit(weights = [0.70, 0.30], seed = 2021)\n",
    "print(\"conjunto de entrenamiento: \", train_df.count(), \", conjunto de test: \", test_df.count())"
   ]
  },
  {
   "cell_type": "markdown",
   "metadata": {},
   "source": [
    "### ESTIMADORES Y TRANSFORMADORES"
   ]
  },
  {
   "cell_type": "code",
   "execution_count": 27,
   "metadata": {},
   "outputs": [
    {
     "name": "stdout",
     "output_type": "stream",
     "text": [
      "+-------+-------------+-------------------------------------------------------------------------------------------------------------------------------------------+\n",
      "|surface|surface_class|std_features                                                                                                                               |\n",
      "+-------+-------------+-------------------------------------------------------------------------------------------------------------------------------------------+\n",
      "|Clay   |1.0          |[0.2445262842576335,1.677924080540802,-0.6278985789006248,-1.5390143247204846,0.3208099598293323,1.1600979342983386,-1.248650186052327]    |\n",
      "|Hard   |0.0          |[0.05983408217682661,1.1777385826834315,-0.202784128266858,-1.5659437298755194,0.3102529820377186,0.5924697077162625,-0.725341609062653]   |\n",
      "|Clay   |1.0          |[-0.9102112307876484,-1.0153009539563096,0.1903123200629549,-0.5385002527554141,0.6811577913520477,0.8129224962828395,-1.1724352738879387] |\n",
      "|Grass  |2.0          |[0.5917603512771668,-0.5604579789780375,0.6266299107065887,-0.36473809770870297,-0.5064932374976401,-0.441830468871907,-0.7508847513573038]|\n",
      "|Clay   |1.0          |[-1.729273245789329,4.137027620742789,-1.6639289013868066,0.0749867876800114,-0.12498179811789945,-0.6061673273762095,-1.4587774178501327] |\n",
      "+-------+-------------+-------------------------------------------------------------------------------------------------------------------------------------------+\n",
      "only showing top 5 rows\n",
      "\n"
     ]
    }
   ],
   "source": [
    "from pyspark.ml.linalg import Vectors\n",
    "### ESTIMADORES Y TRANSFORMADORES\n",
    "# binarizer\n",
    "binarizer_rank = ft.Binarizer(threshold=50,inputCols=[\"w_rank\",\"l_rank\"], outputCols=[\"w_rank_bin\",\"l_rank_bin\"])\n",
    "binarizer_min = ft.Binarizer(threshold=108,inputCol=\"minutes\", outputCol=\"minutes_bin\")\n",
    "# string indexer\n",
    "indexer = ft.StringIndexer(inputCols=['w_hand','l_hand','tourney_level','surface'],outputCols=['w_hand_class','l_hand_class','tourney_level_class','surface_class'])\n",
    "# one hot encoder\n",
    "onehotencoder = ft.OneHotEncoder(inputCols=['w_hand_class','l_hand_class','tourney_level_class'],outputCols=['w_hand_vec','l_hand_vec','tourney_level_vec'])\n",
    "# assembler\n",
    "assembler = ft.VectorAssembler(inputCols=[\"w_rank\",\"l_rank\",\"w_rank_bin\",\"l_rank_bin\",\n",
    "                                          \"minutes\",\"minutes_bin\",\n",
    "                                          \"w_height\",\"l_height\",\n",
    "                                          \"w_age\",\"l_age\",\n",
    "                                          \"w_hand_vec\",\"l_hand_vec\",\n",
    "                                         \"tourney_level_vec\"], outputCol=\"features\")\n",
    "# Principal Component Analysis\n",
    "######## Para elegir cuantos componentes elegir, he realizado el entrenamiento hasta pca, analizado de la siguiente manera variable a variable\n",
    "######## pca_model = pca.fit(test_predictions_df)\n",
    "######## pca_model.explainedVariance\n",
    "######## >> DenseVector([0.4912, 0.2797, 0.2166, 0.0052, 0.0047, 0.0014, 0.0011, 0.0, 0.0, 0.0, 0.0, 0.0, 0.0])\n",
    "######## Aquí podemos obtener que pocentaje de conjunto es explicado por cada variable\n",
    "######## y he concluido que elegiría los 7 primeros componentes\n",
    "pca = ft.PCA(k=7, inputCol=\"features\", outputCol=\"pcaFeatures\")\n",
    "# Standard Scaler\n",
    "scaler = ft.StandardScaler(withMean=True, withStd=True, inputCol=\"pcaFeatures\",outputCol=\"std_features\")\n",
    "\n",
    "# Pipeline of estimators and transformers\n",
    "pipeline = Pipeline(stages=[binarizer_rank, binarizer_min, indexer, onehotencoder, assembler, pca, scaler])\n",
    "fitted_model = pipeline.fit(train_df)\n",
    "test_predictions_df = fitted_model.transform(train_df)\n",
    "\n",
    "test_predictions_df = test_predictions_df.drop('w_hand','l_hand',\n",
    "                                               'tourney_level',\n",
    "                                               'w_hand_class','l_hand_class',\n",
    "                                               'tourney_level_class',\n",
    "                                               'w_height','l_height',\n",
    "                                               'w_age','l_age',\n",
    "                                               'w_rank','l_rank',\n",
    "                                               'minutes','minutes_bin',\n",
    "                                               'w_rank_bin','l_rank_bin',\n",
    "                                               'w_hand_vec','l_hand_vec',\n",
    "                                               'tourney_level_vec',\n",
    "                                               'features',\n",
    "                                               'pcaFeatures')\n",
    "\n",
    "test_predictions_df.show(5, truncate=False)\n",
    "\n",
    "\n",
    "\n",
    "#random_forest = RandomForestClassifier(featuresCol=\"std_features\",labelCol=\"class\", predictionCol=\"prediction\")"
   ]
  },
  {
   "cell_type": "markdown",
   "metadata": {},
   "source": [
    "### Modelo de Regresión Logística (Multinomial)"
   ]
  },
  {
   "cell_type": "markdown",
   "metadata": {},
   "source": [
    "La regresión logística multinomial generaliza el metodo de regresión logística para problemas con multiples clases, es decir, se utiliza para predecir las probabilidades de los diferentes resultados posibles de una distribución categórica como variable dependiente, dado un conjunto de variables independientes."
   ]
  },
  {
   "cell_type": "code",
   "execution_count": null,
   "metadata": {},
   "outputs": [],
   "source": []
  },
  {
   "cell_type": "markdown",
   "metadata": {},
   "source": [
    "### Modelo de Random Forest"
   ]
  },
  {
   "cell_type": "markdown",
   "metadata": {},
   "source": [
    "Esto hacen los arboles aleatorios"
   ]
  },
  {
   "cell_type": "code",
   "execution_count": null,
   "metadata": {},
   "outputs": [],
   "source": [
    "from pyspark.ml.classification import RandomForestClassifier\n",
    "\n",
    "random_forest = RandomForestClassifier(featuresCol=\"std_features\", labelCol=\"surface_class\",predictionCol=\"prediction\")\n",
    "\n",
    "# tuberia con el modelo de random forest\n",
    "rf_pipeline = Pipeline(stages=[binarizer_rank, binarizer_min, indexer, onehotencoder, assembler, pca, scaler, random_forest])\n",
    "\n",
    "rf_parameters = (ParamGridBuilder()\n",
    "                .addGrid(random_forest.maxDepth, [4, 5, 6, 7, 8, 9, 10, 11, 12, 13, 14, 15])\n",
    "                .addGrid(random_forest.maxBins, [20, 21, 22, 23, 24, 25, 26, 27, 28])\n",
    "                .addGrid(random_forest.numTrees, [5, 6, 7, 8])\n",
    "                .build())"
   ]
  },
  {
   "cell_type": "markdown",
   "metadata": {},
   "source": [
    "### Modelo de Gradient-Boosted Tree"
   ]
  },
  {
   "cell_type": "markdown",
   "metadata": {},
   "source": [
    "Esto hacen el Gradient-Boosted Tree"
   ]
  },
  {
   "cell_type": "code",
   "execution_count": null,
   "metadata": {},
   "outputs": [],
   "source": []
  },
  {
   "cell_type": "markdown",
   "metadata": {},
   "source": [
    "#### Descripción de modelos seleccionados\n",
    "- Regresion logística:\n",
    "\n",
    "- Random Forest\n",
    "\n",
    "Random Forest es un metodo de aprendizaje para clasificación, regresión y otras tareas que se centran en construir multiples arboles de decisión a la hora de entrenar y sacando la clase que sea la moda de los arboles individuales.\n",
    "\n",
    "\n",
    "- Gradient-boosted tree"
   ]
  }
 ],
 "metadata": {
  "kernelspec": {
   "display_name": "Big Data",
   "language": "python",
   "name": "bigdata"
  }
 },
 "nbformat": 4,
 "nbformat_minor": 4
}
