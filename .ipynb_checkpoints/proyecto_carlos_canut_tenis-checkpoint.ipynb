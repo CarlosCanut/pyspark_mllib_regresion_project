{
 "cells": [
  {
   "cell_type": "markdown",
   "metadata": {},
   "source": [
    "# Entrenamiento de Tenis para elegir pista "
   ]
  },
  {
   "cell_type": "markdown",
   "metadata": {},
   "source": [
    "### Conjunto de datos"
   ]
  },
  {
   "cell_type": "markdown",
   "metadata": {},
   "source": [
    "#### Descripción del conjunto de datos y tarea a realizar\n",
    "Para este proyecto vamos a utilizar el conjunto de datos de los partidos realizados en la ATP desde el año 2010 hasta el 2021, con esto realizaremos una serie de modelos de clasificación con los que predecir en base a las caracteristicas de un jugador vencedor y de otro perdedor, cual sería el tipo de superficie más idonea para que el resultado planteado ocurriera, para esto tambien incluiremos su ranking en la ATP."
   ]
  },
  {
   "cell_type": "code",
   "execution_count": 93,
   "metadata": {},
   "outputs": [
    {
     "name": "stdout",
     "output_type": "stream",
     "text": [
      "+-------+-------------+------------+-----------+---------+-------------+----------+--------+-------------+-----------+-------+-----+----+------+-------+--------+--------+-------+---------+---------+-----+----+------+-------+--------+--------+-------+---------+---------+-----------+------------------+----------+-----------------+----+\n",
      "|surface|tourney_level|tourney_date|winner_hand|winner_ht|   winner_age|loser_hand|loser_ht|    loser_age|      score|minutes|w_ace|w_df|w_svpt|w_1stIn|w_1stWon|w_2ndWon|w_SvGms|w_bpSaved|w_bpFaced|l_ace|l_df|l_svpt|l_1stIn|l_1stWon|l_2ndWon|l_SvGms|l_bpSaved|l_bpFaced|winner_rank|winner_rank_points|loser_rank|loser_rank_points|year|\n",
      "+-------+-------------+------------+-----------+---------+-------------+----------+--------+-------------+-----------+-------+-----+----+------+-------+--------+--------+-------+---------+---------+-----+----+------+-------+--------+--------+-------+---------+---------+-----------+------------------+----------+-----------------+----+\n",
      "|   Hard|            A|    20100103|          R|    188.0|27.3483915127|         R|   183.0|30.3463381246| 7-6(5) 6-2|   84.0| 15.0| 0.0|  63.0|   42.0|    36.0|    14.0|   10.0|      3.0|      3.0|  4.0| 2.0|  56.0|   34.0|    29.0|    11.0|   10.0|      3.0|      5.0|        7.0|            4410.0|      77.0|            598.0|2010|\n",
      "|   Hard|            A|    20100103|          L|    198.0|22.5434633812|         L|   190.0|22.3709787817|    7-5 6-1|   70.0| 10.0| 3.0|  57.0|   30.0|    23.0|    19.0|   10.0|      0.0|      0.0|  2.0| 2.0|  66.0|   34.0|    22.0|    14.0|    9.0|      7.0|     10.0|      134.0|             400.0|      78.0|            590.0|2010|\n",
      "|   Hard|            A|    20100103|          R|    185.0|23.5482546201|         L|   185.0|28.4517453799|6-3 4-6 6-4|  121.0|  5.0| 4.0|  97.0|   51.0|    33.0|    27.0|   15.0|      5.0|      8.0|  4.0| 0.0|  85.0|   58.0|    38.0|    14.0|   14.0|      7.0|     11.0|       52.0|             850.0|      88.0|            568.0|2010|\n",
      "|   Hard|            A|    20100103|          R|    188.0|22.1081451061|         L|   183.0|28.6214921287|    7-5 6-1|   64.0| 12.0| 1.0|  50.0|   35.0|    30.0|    12.0|   10.0|      3.0|      3.0|  2.0| 1.0|  53.0|   29.0|    16.0|    15.0|    9.0|      2.0|      5.0|      285.0|             151.0|      28.0|           1260.0|2010|\n",
      "+-------+-------------+------------+-----------+---------+-------------+----------+--------+-------------+-----------+-------+-----+----+------+-------+--------+--------+-------+---------+---------+-----+----+------+-------+--------+--------+-------+---------+---------+-----------+------------------+----------+-----------------+----+\n",
      "only showing top 4 rows\n",
      "\n"
     ]
    }
   ],
   "source": [
    "from pyspark.sql.functions import *\n",
    "import matplotlib.pyplot as plt\n",
    "import seaborn as sns\n",
    "import pandas as pd\n",
    "\n",
    "### Cargamos el conjunto de datos con todos los partidos de la ATP desde 2010 hasta 2021\n",
    "all_atp_games = spark.read.csv(\"file:///home/alumno/Desktop/pyspark_mllib_regresion_project/datasets/all_atp_games.csv\", header=True, inferSchema=True, sep=\",\")\n",
    "\n",
    "### Ahora realizamos una limpieza de las columnas que no vamos a utilizar\n",
    "# primero eliminamos las columnas que nos dan información sobre el torneo o datos externos al juego en si\n",
    "columns_to_drop = ['tourney_name', 'tourney_id', 'draw_size', 'match_num', 'winner_id', 'loser_id', 'winner_name', 'loser_name',\n",
    "                  'winner_seed', 'winner_entry', 'winner_ioc', 'loser_seed', 'loser_entry', 'loser_ioc',\n",
    "                  'best_of', 'round']\n",
    "all_atp_games = all_atp_games.drop(*columns_to_drop)\n",
    "\n",
    "# vamos a eliminar todos los registros los cuales no cuentes con la altura del vencedor o perdedor\n",
    "all_atp_games = all_atp_games.dropna('any', subset=['winner_ht', 'loser_ht'])\n",
    "# tambien los datos sin el terreno definido los eliminaremos\n",
    "all_atp_games = all_atp_games.dropna('all', subset=['surface'])\n",
    "\n",
    "# creamos una nueva columna con el año que ocurrió el partido\n",
    "all_atp_games = all_atp_games.withColumn(\"year\", expr('LEFT(tourney_date,4)'))\n",
    "\n",
    "\n",
    "all_atp_games.show(4)"
   ]
  },
  {
   "cell_type": "markdown",
   "metadata": {},
   "source": [
    "#### Operaciones con API de datos estructurados"
   ]
  },
  {
   "cell_type": "code",
   "execution_count": 94,
   "metadata": {},
   "outputs": [
    {
     "name": "stdout",
     "output_type": "stream",
     "text": [
      "+-------+------------------+------------------+--------------+-------------+--------------+-------------+\n",
      "|surface|   mean(winner_ht)|    mean(loser_ht)|max(winner_ht)|max(loser_ht)|min(winner_ht)|min(loser_ht)|\n",
      "+-------+------------------+------------------+--------------+-------------+--------------+-------------+\n",
      "| Carpet|186.46153846153845|184.46153846153845|         203.0|        203.0|         178.0|        173.0|\n",
      "|   Clay| 185.9159496004917|185.76367547633683|         208.0|        208.0|         163.0|        163.0|\n",
      "|   Hard|187.10770846800258|186.23392049127344|         208.0|        208.0|         163.0|        163.0|\n",
      "|  Grass|187.43357783211084| 186.2681336593317|         208.0|        208.0|         163.0|        163.0|\n",
      "+-------+------------------+------------------+--------------+-------------+--------------+-------------+\n",
      "\n",
      "+-------+------------------+------------------+---------------+--------------+---------------+--------------+\n",
      "|surface|  mean(winner_age)|   mean(loser_age)|max(winner_age)|max(loser_age)|min(winner_age)|min(loser_age)|\n",
      "+-------+------------------+------------------+---------------+--------------+---------------+--------------+\n",
      "| Carpet| 24.25272468803077|27.978307797600003|  34.9678302533| 33.6755646817|  18.8911704312|  19.832991102|\n",
      "|   Clay| 27.81269322819466| 28.08200889591144|  40.2409308693| 43.8302532512|  17.2320328542| 16.2354551677|\n",
      "|   Hard|  27.9150914512067| 28.09501089963693|  41.8507871321| 44.0602327173|  17.2429842574| 17.2046543463|\n",
      "|  Grass|28.409907806723666| 28.25490127169548|  39.3401779603| 39.3785078713|  17.6262833676| 17.6262833676|\n",
      "+-------+------------------+------------------+---------------+--------------+---------------+--------------+\n",
      "\n",
      "+-------+------------------+-----------------+----------------+---------------+----------------+---------------+\n",
      "|surface| mean(winner_rank)| mean(loser_rank)|max(winner_rank)|max(loser_rank)|min(winner_rank)|min(loser_rank)|\n",
      "+-------+------------------+-----------------+----------------+---------------+----------------+---------------+\n",
      "| Carpet|237.07692307692307|370.5833333333333|           623.0|          859.0|            25.0|           90.0|\n",
      "|   Clay| 52.23704842428901|77.98320493066255|          1112.0|         1821.0|             1.0|            1.0|\n",
      "|   Hard|47.768067906224736| 73.2530159501255|          1890.0|         1890.0|             1.0|            1.0|\n",
      "|  Grass| 57.32218597063621|83.97755102040816|           861.0|         1109.0|             1.0|            1.0|\n",
      "+-------+------------------+-----------------+----------------+---------------+----------------+---------------+\n",
      "\n"
     ]
    }
   ],
   "source": [
    "# Para las variables de respuesta (categorica), calcular estadísticas agregadas de las variables predictoras\n",
    "# en base a la de respuesta\n",
    "\n",
    "# Vamos a observar la media, minimo y máximo de edad y altura del ganador y perdedor en cada tipo de superficie\n",
    "height_by_surface = all_atp_games.groupBy(col('surface')).agg(expr('mean(winner_ht)'),expr('mean(loser_ht)'),\n",
    "                                         expr('max(winner_ht)'),expr('max(loser_ht)'),\n",
    "                                         expr('min(winner_ht)'),expr('min(loser_ht)'))\n",
    "\n",
    "age_by_surface = all_atp_games.groupBy(col('surface')).agg(expr('mean(winner_age)'),expr('mean(loser_age)'),\n",
    "                                         expr('max(winner_age)'),expr('max(loser_age)'),\n",
    "                                         expr('min(winner_age)'),expr('min(loser_age)'))\n",
    "\n",
    "rank_by_surface = all_atp_games.groupBy(col('surface')).agg(expr('mean(winner_rank)'),expr('mean(loser_rank)'),\n",
    "                                         expr('max(winner_rank)'),expr('max(loser_rank)'),\n",
    "                                         expr('min(winner_rank)'),expr('min(loser_rank)'))\n",
    "\n",
    "\n",
    "height_by_surface.show()\n",
    "age_by_surface.show()\n",
    "rank_by_surface.show()"
   ]
  },
  {
   "cell_type": "markdown",
   "metadata": {},
   "source": [
    "Se puede observar independientemente del tipo de pista, los ganadores son de media más altos, más jovenes y con una mejor posición en el ranking.\n",
    "A excepción de los jugadores en Grass (Hierba) donde la media de los jugadores ganadores son mayores, esto es interesante aunque habría que analizar con más profundidad para deducir algo."
   ]
  },
  {
   "cell_type": "code",
   "execution_count": 95,
   "metadata": {},
   "outputs": [
    {
     "name": "stdout",
     "output_type": "stream",
     "text": [
      "Datos totales: 21351\n",
      "+----+-----+\n",
      "|year|count|\n",
      "+----+-----+\n",
      "|2016| 2010|\n",
      "|2012| 2771|\n",
      "|2020|  275|\n",
      "|2019|  812|\n",
      "|2017| 1641|\n",
      "|2014| 2252|\n",
      "|2013| 2533|\n",
      "|2018| 1214|\n",
      "|2011| 2746|\n",
      "|2021|  123|\n",
      "|2015| 2200|\n",
      "|2010| 2774|\n",
      "+----+-----+\n",
      "\n",
      "Nuevos datos reducidos: 2616\n",
      "+----+-----+\n",
      "|year|count|\n",
      "+----+-----+\n",
      "|2016|  234|\n",
      "|2012|  345|\n",
      "|2020|   31|\n",
      "|2019|   94|\n",
      "|2017|  192|\n",
      "|2014|  247|\n",
      "|2013|  326|\n",
      "|2018|  165|\n",
      "|2011|  355|\n",
      "|2021|   18|\n",
      "|2015|  238|\n",
      "|2010|  371|\n",
      "+----+-----+\n",
      "\n"
     ]
    }
   ],
   "source": [
    "# Contamos con demasiados registros, así que vamos a reducir esto, primero vamos a ver cuantos registros tenemos de cada año\n",
    "print(\"Datos totales:\", all_atp_games.count())\n",
    "all_atp_games.groupBy(\"year\").count().show()\n",
    "# contamos con 12 años diferentes, vamos a tratar de hacer un muestreo estratificado para obtener\n",
    "# un conjunto reducido.\n",
    "porcentaje_por_clase = 0.125\n",
    "seed_stratified = 12\n",
    "fracciones = all_atp_games.select(\"year\").distinct().withColumn(\"fraccion\", lit(porcentaje_por_clase)).rdd.collectAsMap()\n",
    "all_atp_games_reducido = all_atp_games.stat.sampleBy(\"year\", fracciones, seed_stratified)\n",
    "\n",
    "# vamos a comprobar la distribución y total de muestras actuales\n",
    "print(\"Nuevos datos reducidos:\", all_atp_games_reducido.count())\n",
    "all_atp_games_reducido.groupBy(\"year\").count().show()"
   ]
  },
  {
   "cell_type": "code",
   "execution_count": null,
   "metadata": {},
   "outputs": [],
   "source": [
    "# Vamos a proyectar con las variables de winner_age, winner_ht, loser_age, loser_ht y minutes. \n",
    "# Ademas de surface (variable a predecir).\n"
   ]
  },
  {
   "cell_type": "markdown",
   "metadata": {},
   "source": [
    "#### Analisis variable a variable"
   ]
  },
  {
   "cell_type": "code",
   "execution_count": 106,
   "metadata": {},
   "outputs": [],
   "source": [
    "# altura\n",
    "height_resume_winner = all_atp_games.selectExpr('mean(winner_ht) as mean_winner', 'percentile(winner_ht, 0.5) as median_winner',\n",
    "                                         'percentile(winner_ht, 0.25) as Q1_winner', 'percentile(winner_ht, 0.75) as Q3_winner',\n",
    "                                        'kurtosis(winner_ht) as kurtosis_winner', 'skewness(winner_ht) as skewness_winner')\n",
    "\n",
    "height_resume_loser = all_atp_games.selectExpr('mean(loser_ht) as mean_loser', 'percentile(loser_ht, 0.5) as median_loser',\n",
    "                                         'percentile(loser_ht, 0.25) as Q1_loser', 'percentile(loser_ht, 0.75) as Q3_loser',\n",
    "                                        'kurtosis(loser_ht) as kurtosis_loser', 'skewness(loser_ht) as skewness_loser')\n",
    "# edad\n",
    "age_resume_winner = all_atp_games.selectExpr('mean(winner_age) as mean_winner', 'percentile(winner_age, 0.5) as median_winner',\n",
    "                                         'percentile(winner_age, 0.25) as Q1_winner', 'percentile(winner_age, 0.75) as Q3_winner',\n",
    "                                        'kurtosis(winner_age) as kurtosis_winner', 'skewness(winner_age) as skewness_winner')\n",
    "\n",
    "age_resume_loser = all_atp_games.selectExpr('mean(loser_age) as mean_loser', 'percentile(loser_age, 0.5) as median_loser',\n",
    "                                         'percentile(loser_age, 0.25) as Q1_loser', 'percentile(loser_age, 0.75) as Q3_loser',\n",
    "                                        'kurtosis(loser_age) as kurtosis_loser', 'skewness(loser_age) as skewness_loser')\n",
    "\n",
    "# rank\n",
    "rank_resume_winner = all_atp_games.selectExpr('mean(winner_rank) as mean_winner', 'percentile(winner_rank, 0.5) as median_winner',\n",
    "                                         'percentile(winner_rank, 0.25) as Q1_winner', 'percentile(winner_rank, 0.75) as Q3_winner',\n",
    "                                        'kurtosis(winner_rank) as kurtosis_winner', 'skewness(winner_rank) as skewness_winner')\n",
    "\n",
    "rank_resume_loser = all_atp_games.selectExpr('mean(loser_rank) as mean_loser', 'percentile(loser_rank, 0.5) as median_loser',\n",
    "                                         'percentile(loser_rank, 0.25) as Q1_loser', 'percentile(loser_rank, 0.75) as Q3_loser',\n",
    "                                        'kurtosis(loser_rank) as kurtosis_loser', 'skewness(loser_rank) as skewness_loser')\n",
    "\n",
    "# minute\n",
    "minute_resume = all_atp_games.selectExpr('mean(minutes) as mean', 'percentile(minutes, 0.5) as median',\n",
    "                                         'percentile(minutes, 0.25) as Q1', 'percentile(minutes, 0.75) as Q3',\n",
    "                                        'kurtosis(minutes) as kurtosis', 'skewness(minutes) as skewness')\n",
    "minute_resume_by_surface = all_atp_games.groupBy('surface').agg(expr('mean(minutes) as mean'), expr('percentile(minutes, 0.5) as median'),\n",
    "                                                               expr('percentile(minutes, 0.25) as Q1'),\n",
    "                                                               expr('percentile(minutes, 0.75) as Q3'),\n",
    "                                                               expr('kurtosis(minutes) as kurtosis'),\n",
    "                                                               expr('skewness(minutes) as skewness'),\n",
    "                                                               expr('count(minutes) as count'))"
   ]
  },
  {
   "cell_type": "code",
   "execution_count": 107,
   "metadata": {},
   "outputs": [
    {
     "name": "stdout",
     "output_type": "stream",
     "text": [
      "resumen height\n",
      "+------------------+-------------+---------+---------+------------------+------------------+\n",
      "|       mean_winner|median_winner|Q1_winner|Q3_winner|   kurtosis_winner|   skewness_winner|\n",
      "+------------------+-------------+---------+---------+------------------+------------------+\n",
      "|186.78150906280737|        185.0|    183.0|    190.0|0.9563028975361609|0.1223403310514726|\n",
      "+------------------+-------------+---------+---------+------------------+------------------+\n",
      "\n",
      "+------------------+------------+--------+--------+------------------+-------------------+\n",
      "|        mean_loser|median_loser|Q1_loser|Q3_loser|    kurtosis_loser|     skewness_loser|\n",
      "+------------------+------------+--------+--------+------------------+-------------------+\n",
      "|186.09343824645217|       185.0|   183.0|   190.0|0.9726121123526483|0.20183622878329982|\n",
      "+------------------+------------+--------+--------+------------------+-------------------+\n",
      "\n"
     ]
    },
    {
     "data": {
      "text/plain": [
       "array([[<AxesSubplot:title={'center':'loser_ht'}>]], dtype=object)"
      ]
     },
     "execution_count": 107,
     "metadata": {},
     "output_type": "execute_result"
    },
    {
     "data": {
      "image/png": "[encoded data removed]",
      "text/plain": [
       "<Figure size 432x288 with 1 Axes>"
      ]
     },
     "metadata": {
      "needs_background": "light"
     },
     "output_type": "display_data"
    },
    {
     "data": {
      "image/png": "[encoded data removed]",
      "text/plain": [
       "<Figure size 432x288 with 1 Axes>"
      ]
     },
     "metadata": {
      "needs_background": "light"
     },
     "output_type": "display_data"
    }
   ],
   "source": [
    "# vamos a transformar el conjunto de datos a un df de pandas para observar el histograma de cada variable\n",
    "all_atp_games_df = all_atp_games.toPandas()\n",
    "\n",
    "print(\"resumen height\")\n",
    "height_resume_winner.show()\n",
    "all_atp_games_df.hist(column = \"winner_ht\")\n",
    "height_resume_loser.show()\n",
    "all_atp_games_df.hist(column = \"loser_ht\")"
   ]
  },
  {
   "cell_type": "markdown",
   "metadata": {},
   "source": [
    "La altura de los jugadores parece seguir una distribución aproximadamente normal observando su histograma, kurtosis y asimetría."
   ]
  },
  {
   "cell_type": "code",
   "execution_count": 108,
   "metadata": {},
   "outputs": [
    {
     "name": "stdout",
     "output_type": "stream",
     "text": [
      "resumen age\n",
      "+------------------+-------------+-------------+-------------+-------------------+-------------------+\n",
      "|       mean_winner|median_winner|    Q1_winner|    Q3_winner|    kurtosis_winner|    skewness_winner|\n",
      "+------------------+-------------+-------------+-------------+-------------------+-------------------+\n",
      "|27.938521779207857|27.9561943874|25.3333333333|30.3819301848|-0.2381196501196028|0.11212895558018926|\n",
      "+------------------+-------------+-------------+-------------+-------------------+-------------------+\n",
      "\n",
      "+------------------+-------------+-------------+-------------+--------------------+-------------------+\n",
      "|        mean_loser| median_loser|     Q1_loser|     Q3_loser|      kurtosis_loser|     skewness_loser|\n",
      "+------------------+-------------+-------------+-------------+--------------------+-------------------+\n",
      "|28.109353871509796|28.1451060917|25.4674880219|30.6529774127|-0.24004369339201181|0.05410906094483568|\n",
      "+------------------+-------------+-------------+-------------+--------------------+-------------------+\n",
      "\n"
     ]
    },
    {
     "data": {
      "text/plain": [
       "array([[<AxesSubplot:title={'center':'loser_age'}>]], dtype=object)"
      ]
     },
     "execution_count": 108,
     "metadata": {},
     "output_type": "execute_result"
    },
    {
     "data": {
      "image/png": "[encoded data removed]",
      "text/plain": [
       "<Figure size 432x288 with 1 Axes>"
      ]
     },
     "metadata": {
      "needs_background": "light"
     },
     "output_type": "display_data"
    },
    {
     "data": {
      "image/png": "[encoded data removed]",
      "text/plain": [
       "<Figure size 432x288 with 1 Axes>"
      ]
     },
     "metadata": {
      "needs_background": "light"
     },
     "output_type": "display_data"
    }
   ],
   "source": [
    "print(\"resumen age\")\n",
    "age_resume_winner.show()\n",
    "all_atp_games_df.hist(column = \"winner_age\")\n",
    "age_resume_loser.show()\n",
    "all_atp_games_df.hist(column = \"loser_age\")"
   ]
  },
  {
   "cell_type": "markdown",
   "metadata": {},
   "source": [
    "La edad de los jugadores parece seguir una distribución aproximadamente normal observando su histograma, kurtosis y asimetría."
   ]
  },
  {
   "cell_type": "code",
   "execution_count": 109,
   "metadata": {},
   "outputs": [
    {
     "name": "stdout",
     "output_type": "stream",
     "text": [
      "resumen rank\n",
      "+-----------------+-------------+---------+---------+----------------+-----------------+\n",
      "|      mean_winner|median_winner|Q1_winner|Q3_winner| kurtosis_winner|  skewness_winner|\n",
      "+-----------------+-------------+---------+---------+----------------+-----------------+\n",
      "|50.34343955014058|         35.0|     13.0|     67.0|75.8155865186531|5.780995049043726|\n",
      "+-----------------+-------------+---------+---------+----------------+-----------------+\n",
      "\n",
      "+-----------------+------------+--------+--------+-----------------+-----------------+\n",
      "|       mean_loser|median_loser|Q1_loser|Q3_loser|   kurtosis_loser|   skewness_loser|\n",
      "+-----------------+------------+--------+--------+-----------------+-----------------+\n",
      "|76.09496315072994|        57.0|    30.0|    91.0|63.52386458061211|6.025043502357451|\n",
      "+-----------------+------------+--------+--------+-----------------+-----------------+\n",
      "\n"
     ]
    },
    {
     "data": {
      "text/plain": [
       "array([[<AxesSubplot:title={'center':'loser_rank'}>]], dtype=object)"
      ]
     },
     "execution_count": 109,
     "metadata": {},
     "output_type": "execute_result"
    },
    {
     "data": {
      "image/png": "[encoded data removed]",
      "text/plain": [
       "<Figure size 432x288 with 1 Axes>"
      ]
     },
     "metadata": {
      "needs_background": "light"
     },
     "output_type": "display_data"
    },
    {
     "data": {
      "image/png": "[encoded data removed]",
      "text/plain": [
       "<Figure size 432x288 with 1 Axes>"
      ]
     },
     "metadata": {
      "needs_background": "light"
     },
     "output_type": "display_data"
    }
   ],
   "source": [
    "print(\"resumen rank\")\n",
    "rank_resume_winner.show()\n",
    "all_atp_games_df.hist(column = \"winner_rank\")\n",
    "rank_resume_loser.show()\n",
    "all_atp_games_df.hist(column = \"loser_rank\")"
   ]
  },
  {
   "cell_type": "markdown",
   "metadata": {},
   "source": [
    "El ranking de los jugadores no es normal, pero esto es normal ya que estamos trabajando con todas las partidas, y dado que el rango que necesitan los jugadores para participar en estos tipos de torneos es alto, obviamente en la mayor parte de los partidos están todos agrupados en los primeros 200 del ATP."
   ]
  },
  {
   "cell_type": "code",
   "execution_count": 110,
   "metadata": {},
   "outputs": [
    {
     "name": "stdout",
     "output_type": "stream",
     "text": [
      "resumen game lenght\n",
      "+-----------------+------+----+-----+-----------------+------------------+\n",
      "|             mean|median|  Q1|   Q3|         kurtosis|          skewness|\n",
      "+-----------------+------+----+-----+-----------------+------------------+\n",
      "|108.3782495000769| 101.0|78.0|131.0|47.24778475384841|2.7979187477453453|\n",
      "+-----------------+------+----+-----+-----------------+------------------+\n",
      "\n"
     ]
    },
    {
     "data": {
      "text/plain": [
       "array([[<AxesSubplot:title={'center':'minutes'}>]], dtype=object)"
      ]
     },
     "execution_count": 110,
     "metadata": {},
     "output_type": "execute_result"
    },
    {
     "data": {
      "image/png": "[encoded data removed]",
      "text/plain": [
       "<Figure size 432x288 with 1 Axes>"
      ]
     },
     "metadata": {
      "needs_background": "light"
     },
     "output_type": "display_data"
    }
   ],
   "source": [
    "print(\"resumen game lenght\")\n",
    "minute_resume.show()\n",
    "all_atp_games_df.hist(column = \"minutes\")"
   ]
  },
  {
   "cell_type": "markdown",
   "metadata": {},
   "source": [
    "Observando la duración de las partidas, podemos observar que suelen durar una hora y 40 minutos de media, "
   ]
  },
  {
   "cell_type": "code",
   "execution_count": 111,
   "metadata": {},
   "outputs": [
    {
     "name": "stdout",
     "output_type": "stream",
     "text": [
      "resumen game lenght by surface\n",
      "+-------+------------------+------+-----+-----+-----------------+------------------+-----+\n",
      "|surface|              mean|median|   Q1|   Q3|         kurtosis|          skewness|count|\n",
      "+-------+------------------+------+-----+-----+-----------------+------------------+-----+\n",
      "| Carpet|             137.0| 137.0|137.0|137.0|              NaN|               NaN|    1|\n",
      "|   Clay|108.83699573630699| 101.0| 79.0|132.0|88.14447246734528| 4.050356683093371| 6098|\n",
      "|   Hard|107.20617547606335|  99.0| 78.0|129.0|34.39829821560615| 2.361124034094892|11238|\n",
      "|  Grass|113.15466297322253| 105.0| 79.0|138.0|10.15004571698581|1.7155598020131566| 2166|\n",
      "+-------+------------------+------+-----+-----+-----------------+------------------+-----+\n",
      "\n"
     ]
    }
   ],
   "source": [
    "print(\"resumen game lenght by surface\")\n",
    "minute_resume_by_surface.show()"
   ]
  },
  {
   "cell_type": "markdown",
   "metadata": {},
   "source": [
    "Al observar la duración de las partidas por el tipo de pista, podemos ver que la pista de alfombra tiene una duración más alta de media, esto podemos ver que se debe a que únicamente tenemos 1 registro de este tipo de pista.\n",
    "Por otro lado se observa que en cesped la media es ligeramente superior, lo cual puede deberse a que cesped es el tipo de cancha más rápido, lo que pueda ayudar a que los jugadores puedan aguantar más en cada punto y esto haga que dure más la partida."
   ]
  },
  {
   "cell_type": "code",
   "execution_count": 148,
   "metadata": {},
   "outputs": [
    {
     "name": "stdout",
     "output_type": "stream",
     "text": [
      "+-----------+-----+-------------------+\n",
      "|winner_hand|count|         percentage|\n",
      "+-----------+-----+-------------------+\n",
      "|          L| 2812|0.13170343309446864|\n",
      "|          R|18539| 0.8682965669055314|\n",
      "+-----------+-----+-------------------+\n",
      "\n",
      "+----------+-----+-------------------+\n",
      "|loser_hand|count|         percentage|\n",
      "+----------+-----+-------------------+\n",
      "|         L| 2929|0.13718327010444475|\n",
      "|         R|18422| 0.8628167298955552|\n",
      "+----------+-----+-------------------+\n",
      "\n",
      "+-------------------------+----+-----+\n",
      "|tourney_level_winner_hand|   L|    R|\n",
      "+-------------------------+----+-----+\n",
      "|                        A|1565|10079|\n",
      "|                        D|  87|  711|\n",
      "|                        F|  12|  133|\n",
      "|                        G| 509| 3557|\n",
      "|                        M| 639| 4059|\n",
      "+-------------------------+----+-----+\n",
      "\n",
      "+-----------------------+---+---+\n",
      "|winner_rank_winner_hand|  L|  R|\n",
      "+-----------------------+---+---+\n",
      "|                    1.0|188|417|\n",
      "|                   10.0| 17|311|\n",
      "|                   11.0| 11|311|\n",
      "|                   12.0| 23|281|\n",
      "|                   13.0|  6|295|\n",
      "|                   14.0|  7|280|\n",
      "|                   15.0| 17|306|\n",
      "|                   16.0| 16|252|\n",
      "|                   17.0|  8|304|\n",
      "|                   18.0|  5|252|\n",
      "|                   19.0| 22|260|\n",
      "|                    2.0|136|444|\n",
      "|                   20.0| 15|242|\n",
      "|                   21.0| 19|272|\n",
      "|                   22.0| 13|240|\n",
      "|                   23.0| 22|231|\n",
      "|                   24.0| 34|195|\n",
      "|                   25.0| 38|207|\n",
      "|                   26.0| 34|190|\n",
      "|                   27.0| 35|173|\n",
      "|                   28.0| 43|192|\n",
      "|                   29.0| 39|195|\n",
      "|                    3.0| 46|435|\n",
      "|                   30.0| 38|164|\n",
      "|                   31.0| 39|179|\n",
      "|                   32.0| 43|183|\n",
      "|                   33.0| 34|198|\n",
      "|                   34.0| 30|178|\n",
      "|                   35.0| 51|153|\n",
      "|                   36.0| 40|154|\n",
      "|                   37.0| 44|149|\n",
      "|                   38.0| 36|186|\n",
      "|                   39.0| 41|150|\n",
      "|                    4.0| 35|365|\n",
      "|                   40.0| 28|139|\n",
      "|                   41.0| 36|165|\n",
      "|                   42.0| 39|162|\n",
      "|                   43.0| 27|169|\n",
      "|                   44.0| 38|147|\n",
      "|                   45.0| 31|148|\n",
      "|                   46.0| 34|178|\n",
      "|                   47.0| 24|145|\n",
      "|                   48.0| 14|130|\n",
      "|                   49.0| 24|156|\n",
      "|                    5.0| 86|397|\n",
      "|                    6.0|  7|397|\n",
      "|                    7.0| 22|399|\n",
      "|                    8.0| 12|374|\n",
      "|                    9.0| 41|324|\n",
      "+-----------------------+---+---+\n",
      "\n"
     ]
    }
   ],
   "source": [
    "hand_resume_winner_surface = all_atp_games.groupBy('winner_hand').agg(count('surface').alias('count'), (count('surface')/all_atp_games.count()).alias('percentage'))\n",
    "hand_resume_loser_surface = all_atp_games.groupBy('loser_hand').agg(count('surface').alias('count'), (count('surface')/all_atp_games.count()).alias('percentage'))\n",
    "\n",
    "hand_resume_winner_surface.show()\n",
    "hand_resume_loser_surface.show()\n",
    "\n",
    "\n",
    "all_atp_games.crosstab('tourney_level','winner_hand').orderBy('tourney_level_winner_hand', ascending=True).show(n=50)\n",
    "\n",
    "all_atp_games.filter(\"winner_rank < 50\").crosstab('winner_rank','winner_hand').orderBy('winner_rank_winner_hand', ascending=True).show(n=50)\n"
   ]
  },
  {
   "cell_type": "markdown",
   "metadata": {},
   "source": [
    "Podemos observar que la dominancia de la mano derecha es constante en todos los niveles de juego y todos los jugadores que han tenido cierto rango en el ranking ATP, lo que es entendible ya que generalmente la gente suele ser diestra."
   ]
  },
  {
   "cell_type": "markdown",
   "metadata": {},
   "source": [
    "### Entrenamiento y evaluación de modelo"
   ]
  },
  {
   "cell_type": "markdown",
   "metadata": {},
   "source": [
    "En la tarea de clasificación, teniendo en cuenta las siguientes variables de los jugadores (a la hora de introducir los datos habrá que predefinir dos jugadores, uno como ganador y otro como perdedor):\n",
    "- hand: mano dominante\n",
    "- tourney_level: Nivel de la competición donde se juega el partido\n",
    "- ht: altura\n",
    "- age: edad\n",
    "- rank: posición en el ranking ATP\n",
    "- rank_points: puntos en el ranking ATP\n",
    "\n",
    "Trataremos de predecir que tipo de superficie sería la más idonea para que el jugador introducido como vencedor obtenga la victoria:\n",
    "- surface: tipo de pista\n"
   ]
  },
  {
   "cell_type": "code",
   "execution_count": 22,
   "metadata": {},
   "outputs": [
    {
     "name": "stdout",
     "output_type": "stream",
     "text": [
      "+-------+-------------+------------+-----------+---------+-------------+----------+--------+-------------+-----------+-------+-----+----+------+-------+--------+--------+-------+---------+---------+-----+----+------+-------+--------+--------+-------+---------+---------+-----------+------------------+----------+-----------------+\n",
      "|surface|tourney_level|tourney_date|winner_hand|winner_ht|   winner_age|loser_hand|loser_ht|    loser_age|      score|minutes|w_ace|w_df|w_svpt|w_1stIn|w_1stWon|w_2ndWon|w_SvGms|w_bpSaved|w_bpFaced|l_ace|l_df|l_svpt|l_1stIn|l_1stWon|l_2ndWon|l_SvGms|l_bpSaved|l_bpFaced|winner_rank|winner_rank_points|loser_rank|loser_rank_points|\n",
      "+-------+-------------+------------+-----------+---------+-------------+----------+--------+-------------+-----------+-------+-----+----+------+-------+--------+--------+-------+---------+---------+-----+----+------+-------+--------+--------+-------+---------+---------+-----------+------------------+----------+-----------------+\n",
      "|   Hard|            A|    20100103|          R|    188.0|27.3483915127|         R|   183.0|30.3463381246| 7-6(5) 6-2|   84.0| 15.0| 0.0|  63.0|   42.0|    36.0|    14.0|   10.0|      3.0|      3.0|  4.0| 2.0|  56.0|   34.0|    29.0|    11.0|   10.0|      3.0|      5.0|        7.0|            4410.0|      77.0|            598.0|\n",
      "|   Hard|            A|    20100103|          L|    198.0|22.5434633812|         L|   190.0|22.3709787817|    7-5 6-1|   70.0| 10.0| 3.0|  57.0|   30.0|    23.0|    19.0|   10.0|      0.0|      0.0|  2.0| 2.0|  66.0|   34.0|    22.0|    14.0|    9.0|      7.0|     10.0|      134.0|             400.0|      78.0|            590.0|\n",
      "|   Hard|            A|    20100103|          R|    185.0|23.5482546201|         L|   185.0|28.4517453799|6-3 4-6 6-4|  121.0|  5.0| 4.0|  97.0|   51.0|    33.0|    27.0|   15.0|      5.0|      8.0|  4.0| 0.0|  85.0|   58.0|    38.0|    14.0|   14.0|      7.0|     11.0|       52.0|             850.0|      88.0|            568.0|\n",
      "|   Hard|            A|    20100103|          R|    188.0|22.1081451061|         L|   183.0|28.6214921287|    7-5 6-1|   64.0| 12.0| 1.0|  50.0|   35.0|    30.0|    12.0|   10.0|      3.0|      3.0|  2.0| 1.0|  53.0|   29.0|    16.0|    15.0|    9.0|      2.0|      5.0|      285.0|             151.0|      28.0|           1260.0|\n",
      "+-------+-------------+------------+-----------+---------+-------------+----------+--------+-------------+-----------+-------+-----+----+------+-------+--------+--------+-------+---------+---------+-----+----+------+-------+--------+--------+-------+---------+---------+-----------+------------------+----------+-----------------+\n",
      "only showing top 4 rows\n",
      "\n"
     ]
    }
   ],
   "source": []
  },
  {
   "cell_type": "code",
   "execution_count": null,
   "metadata": {},
   "outputs": [],
   "source": []
  },
  {
   "cell_type": "code",
   "execution_count": 13,
   "metadata": {},
   "outputs": [
    {
     "data": {
      "text/plain": [
       "DataFrame[tourney_id: string, tourney_name: string, surface: string, tourney_level: string, tourney_date: int, winner_hand: string, winner_ht: double, winner_age: double, loser_hand: string, loser_ht: double, loser_age: double, score: string, minutes: double, w_ace: double, w_df: double, w_svpt: double, w_1stIn: double, w_1stWon: double, w_2ndWon: double, w_SvGms: double, w_bpSaved: double, w_bpFaced: double, l_ace: double, l_df: double, l_svpt: double, l_1stIn: double, l_1stWon: double, l_2ndWon: double, l_SvGms: double, l_bpSaved: double, l_bpFaced: double, winner_rank: double, winner_rank_points: double, loser_rank: double, loser_rank_points: double]"
      ]
     },
     "execution_count": 13,
     "metadata": {},
     "output_type": "execute_result"
    }
   ],
   "source": [
    "all_atp_games"
   ]
  }
 ],
 "metadata": {
  "kernelspec": {
   "display_name": "Big Data",
   "language": "python",
   "name": "bigdata"
  },
  "language_info": {
   "codemirror_mode": {
    "name": "ipython",
    "version": 3
   },
   "file_extension": ".py",
   "mimetype": "text/x-python",
   "name": "python",
   "nbconvert_exporter": "python",
   "pygments_lexer": "ipython3",
   "version": "3.6.9"
  }
 },
 "nbformat": 4,
 "nbformat_minor": 4
}
